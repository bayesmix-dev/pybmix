{
 "cells": [
  {
   "cell_type": "code",
   "execution_count": null,
   "metadata": {},
   "outputs": [],
   "source": [
    "import numpy as np\n",
    "import matplotlib.pyplot as plt\n",
    "\n",
    "from pybmix.core.mixing import DirichletProcessMixing, PitmanYorMixing"
   ]
  },
  {
   "cell_type": "markdown",
   "metadata": {},
   "source": [
    "## Dirichlet Process\n",
    "\n",
    "Compare how the prior distribution varies for a DP for different values of the 'total_mass' parameter"
   ]
  },
  {
   "cell_type": "code",
   "execution_count": null,
   "metadata": {},
   "outputs": [],
   "source": [
    "nsamples = 100\n",
    "grid = np.arange(1, 30)\n",
    "\n",
    "for total_mass in [0.25, 1, 2, 3, 5, 7]:\n",
    "    dp = DirichletProcessMixing(total_mass=total_mass)\n",
    "    probs = dp.prior_cluster_distribution(grid, nsamples)\n",
    "    plt.plot(grid, probs, label=\"total_mass={0}\".format(total_mass))\n",
    "    \n",
    "plt.legend()\n",
    "plt.show()"
   ]
  },
  {
   "cell_type": "markdown",
   "metadata": {},
   "source": [
    "## Pitman-Yor Process\n",
    "\n",
    "The PY process is controlled by two parameters: 'strength' (plays the same role of 'total_mass' in the Dirichlet Process) and 'discount'.\n",
    "For a fixed value of 'strenght', see how the distribution varies for different values of 'discount'."
   ]
  },
  {
   "cell_type": "code",
   "execution_count": null,
   "metadata": {},
   "outputs": [],
   "source": [
    "strength = 1\n",
    "for discount in [0.001, 0.1, 0.2, 0.5]:\n",
    "    py = PitmanYorMixing(strength=strength, discount=discount)\n",
    "    probs = py.prior_cluster_distribution(grid, nsamples)\n",
    "    plt.plot(grid, probs, label=\"strength={0}, discount={1}\".format(strength, discount))\n",
    "    \n",
    "plt.legend()\n",
    "plt.show()"
   ]
  }
 ],
 "metadata": {
  "kernelspec": {
   "display_name": "Python 3",
   "language": "python",
   "name": "python3"
  },
  "language_info": {
   "codemirror_mode": {
    "name": "ipython",
    "version": 3
   },
   "file_extension": ".py",
   "mimetype": "text/x-python",
   "name": "python",
   "nbconvert_exporter": "python",
   "pygments_lexer": "ipython3",
   "version": "3.8.0"
  }
 },
 "nbformat": 4,
 "nbformat_minor": 4
}
