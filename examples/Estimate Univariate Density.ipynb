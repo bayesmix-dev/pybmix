{
 "cells": [
  {
   "cell_type": "code",
   "execution_count": null,
   "metadata": {},
   "outputs": [],
   "source": [
    "import numpy as np\n",
    "import matplotlib.pyplot as plt\n",
    "\n",
    "from pybmix.core.mixing import DirichletProcessMixing\n",
    "from pybmix.core.hierarchy import UnivariateNormal\n",
    "from pybmix.core.mixture_model import MixtureModel"
   ]
  },
  {
   "cell_type": "code",
   "execution_count": null,
   "metadata": {},
   "outputs": [],
   "source": [
    "from pybmix.core.pybmixcpp import estimate"
   ]
  },
  {
   "cell_type": "markdown",
   "metadata": {},
   "source": [
    "generate data"
   ]
  },
  {
   "cell_type": "code",
   "execution_count": null,
   "metadata": {},
   "outputs": [],
   "source": [
    "y = np.concatenate(\n",
    "    [np.random.normal(loc=3, size=100), np.random.normal(loc=-3, size=100)])\n",
    "plt.hist(y)\n",
    "plt.show()"
   ]
  },
  {
   "cell_type": "markdown",
   "metadata": {},
   "source": [
    "define the mixture model"
   ]
  },
  {
   "cell_type": "code",
   "execution_count": null,
   "metadata": {},
   "outputs": [],
   "source": [
    "mixing = DirichletProcessMixing(total_mass=2)\n",
    "hierarchy = UnivariateNormal()\n",
    "hierarchy.make_default_fixed_params(y, 2)\n",
    "mixture = MixtureModel(mixing, hierarchy)"
   ]
  },
  {
   "cell_type": "markdown",
   "metadata": {},
   "source": [
    "run mcmc"
   ]
  },
  {
   "cell_type": "code",
   "execution_count": null,
   "metadata": {},
   "outputs": [],
   "source": [
    "mixture.run_mcmc(y, niter=2000, nburn=1000)"
   ]
  },
  {
   "cell_type": "markdown",
   "metadata": {},
   "source": [
    "get the density estimates: fix a grid where to estimate the densities; the method 'estimate_density' returns a matrix of shape [niter - nburn, len(grid)]"
   ]
  },
  {
   "cell_type": "code",
   "execution_count": null,
   "metadata": {},
   "outputs": [],
   "source": [
    "from pybmix.estimators."
   ]
  },
  {
   "cell_type": "code",
   "execution_count": null,
   "metadata": {},
   "outputs": [],
   "source": [
    "grid = np.linspace(-6, 6, 500)\n",
    "densities = mixture.estimate_density(grid)"
   ]
  },
  {
   "cell_type": "markdown",
   "metadata": {},
   "source": [
    "Plot some of the densities and their mean"
   ]
  },
  {
   "cell_type": "code",
   "execution_count": null,
   "metadata": {},
   "outputs": [],
   "source": [
    "plt.hist(y, density=True)\n",
    "plt.plot(grid, np.mean(densities, axis=0), lw=3, label=\"predictive density\")\n",
    "idxs = [5, 100, 300]\n",
    "for idx in idxs:\n",
    "    plt.plot(grid, densities[idx, :], \"--\", label=\"iteration: {0}\".format(idx))\n",
    "    \n",
    "plt.legend()\n",
    "plt.show()"
   ]
  },
  {
   "cell_type": "markdown",
   "metadata": {},
   "source": [
    "plot the chain of the number of clusters"
   ]
  },
  {
   "cell_type": "code",
   "execution_count": null,
   "metadata": {},
   "outputs": [],
   "source": [
    "mcmc_chain = mixture.get_chain()\n",
    "\n",
    "# extract the cluster allocations\n",
    "cluster_alloc_chain = mcmc_chain.extract(\"cluster_allocs\")\n",
    "\n",
    "# cluster alloc chain is a matrix of shape [niter - nburn, ndata], we must count at\n",
    "# each row the number of unique values\n",
    "n_clust_chain = np.apply_along_axis(lambda x: len(np.unique(x)), 1, \n",
    "                                    cluster_alloc_chain)\n",
    "\n",
    "plt.vlines(np.arange(len(n_clust_chain)), n_clust_chain - 0.3, n_clust_chain + 0.3)\n",
    "plt.show()"
   ]
  }
 ],
 "metadata": {
  "kernelspec": {
   "display_name": "Python 3",
   "language": "python",
   "name": "python3"
  },
  "language_info": {
   "codemirror_mode": {
    "name": "ipython",
    "version": 3
   },
   "file_extension": ".py",
   "mimetype": "text/x-python",
   "name": "python",
   "nbconvert_exporter": "python",
   "pygments_lexer": "ipython3",
   "version": "3.8.0"
  }
 },
 "nbformat": 4,
 "nbformat_minor": 4
}
